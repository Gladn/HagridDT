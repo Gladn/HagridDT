{
  "nbformat": 4,
  "nbformat_minor": 0,
  "metadata": {
    "colab": {
      "provenance": []
    },
    "kernelspec": {
      "name": "python3",
      "display_name": "Python 3"
    },
    "language_info": {
      "name": "python"
    },
    "gpuClass": "standard",
    "accelerator": "TPU"
  },
  "cells": [
    {
      "cell_type": "markdown",
      "metadata": {
        "id": "view-in-github"
      },
      "source": [
        "<a href=\"https://colab.research.google.com/github/Gladn/Colaboratory_new/blob/main/Hugrid.ipynb\" target=\"_parent\"><img src=\"https://colab.research.google.com/assets/colab-badge.svg\" alt=\"Open In Colab\"/></a>"
      ]
    },
    {
      "cell_type": "code",
      "source": [
        "! pip install datasets transformers[sentencepiece]"
      ],
      "metadata": {
        "id": "xBp5xqD-jVOx"
      },
      "execution_count": null,
      "outputs": []
    },
    {
      "cell_type": "code",
      "source": [
        "import os\n",
        "import numpy as np\n",
        "import tensorflow as tf\n",
        "import tensorflow_datasets\n",
        "from tensorflow import keras\n",
        "from tensorflow.keras.models import Sequential\n",
        "from tensorflow.keras.layers import Conv2D, MaxPooling2D, Dense, Flatten, Dropout\n",
        "from tensorflow.keras import utils\n",
        "from tensorflow.keras.preprocessing import image\n",
        "from tensorflow.keras.preprocessing import image_dataset_from_directory\n",
        "import matplotlib.pyplot as plt\n",
        "from google.colab import files"
      ],
      "metadata": {
        "id": "RS_-djW0XSbk"
      },
      "execution_count": null,
      "outputs": []
    },
    {
      "cell_type": "code",
      "source": [
        "!wget https://sc.link/zlGy -o test.zip"
      ],
      "metadata": {
        "id": "hKstIQR9YcaK"
      },
      "execution_count": null,
      "outputs": []
    },
    {
      "cell_type": "code",
      "source": [
        "!unzip subsample -d /content/test/"
      ],
      "metadata": {
        "id": "3t24p4w6ZdDg"
      },
      "execution_count": null,
      "outputs": []
    },
    {
      "cell_type": "code",
      "source": [
        "batch_size=128\n",
        "image_size=(200, 200)"
      ],
      "metadata": {
        "id": "enJMvyLJbm9r"
      },
      "execution_count": null,
      "outputs": []
    },
    {
      "cell_type": "code",
      "source": [
        "trainDataset = image_dataset_from_directory('/content/subsample/',\n",
        "                                     subset = 'training',\n",
        "                                     seed = 42,\n",
        "                                     validation_split = 0.1,\n",
        "                                     batch_size = batch_size,\n",
        "                                     image_size= image_size)"
      ],
      "metadata": {
        "colab": {
          "base_uri": "https://localhost:8080/"
        },
        "id": "ZMQWoaaZQzDd",
        "outputId": "a8cd1523-51e8-43dc-997b-88c027daa29a"
      },
      "execution_count": null,
      "outputs": [
        {
          "output_type": "stream",
          "name": "stdout",
          "text": [
            "Found 1801 files belonging to 18 classes.\n",
            "Using 1621 files for training.\n"
          ]
        }
      ]
    },
    {
      "cell_type": "code",
      "source": [
        "validation_dataset = image_dataset_from_directory('/content/subsample/',\n",
        "                                             subset='validation',\n",
        "                                             seed=42,\n",
        "                                             validation_split=0.1,\n",
        "                                             batch_size=batch_size,\n",
        "                                             image_size=image_size)"
      ],
      "metadata": {
        "colab": {
          "base_uri": "https://localhost:8080/"
        },
        "id": "PjOrWPEodM3a",
        "outputId": "154fb9e0-9ef2-4044-ab31-3c3852c310c7"
      },
      "execution_count": null,
      "outputs": [
        {
          "output_type": "stream",
          "name": "stdout",
          "text": [
            "Found 1801 files belonging to 18 classes.\n",
            "Using 180 files for validation.\n"
          ]
        }
      ]
    },
    {
      "cell_type": "code",
      "source": [
        "testDataset = image_dataset_from_directory('/content/subsample/',\n",
        "                                     batch_size = batch_size,\n",
        "                                     image_size= image_size)"
      ],
      "metadata": {
        "colab": {
          "base_uri": "https://localhost:8080/"
        },
        "id": "_sGskwo0eFe2",
        "outputId": "8f5e65e9-5f7b-4592-c7b0-bc1e5a6b242a"
      },
      "execution_count": null,
      "outputs": [
        {
          "output_type": "stream",
          "name": "stdout",
          "text": [
            "Found 1801 files belonging to 18 classes.\n"
          ]
        }
      ]
    },
    {
      "cell_type": "code",
      "source": [
        "class_names = trainDataset.class_names"
      ],
      "metadata": {
        "id": "FA0mk6tme-sm"
      },
      "execution_count": null,
      "outputs": []
    },
    {
      "cell_type": "code",
      "source": [
        "plt.figure(figsize=(8, 8))\n",
        "for images, labels in trainDataset.take(1):\n",
        "  for i in range(9):\n",
        "    ax = plt.subplot(3, 3, i + 1)\n",
        "    plt.imshow(images[i].numpy().astype(\"uint8\"))\n",
        "    plt.title(class_names[labels[i]])\n",
        "    plt.axis(\"off\")"
      ],
      "metadata": {
        "id": "7uBUNiGne3WW"
      },
      "execution_count": null,
      "outputs": []
    },
    {
      "cell_type": "code",
      "source": [
        "AUTOTUNE = tf.data.experimental.AUTOTUNE\n",
        "\n",
        "train_dataset = trainDataset.prefetch(buffer_size=AUTOTUNE)\n",
        "validation_dataset = validation_dataset.prefetch(buffer_size=AUTOTUNE)\n",
        "test_dataset = testDataset.prefetch(buffer_size=AUTOTUNE)"
      ],
      "metadata": {
        "id": "ylwdz4v4fmau"
      },
      "execution_count": null,
      "outputs": []
    },
    {
      "cell_type": "code",
      "source": [
        "# Создаем последовательную модель\n",
        "model = Sequential()\n",
        "# Сверточный слой\n",
        "model.add(Conv2D(16, (5, 5), padding='same',\n",
        "                 input_shape=(200, 200, 3), activation='relu'))\n",
        "# Слой подвыборки\n",
        "model.add(MaxPooling2D(pool_size=(2, 2)))\n",
        "# Сверточный слой\n",
        "model.add(Conv2D(32, (5, 5), activation='relu', padding='same'))\n",
        "# Слой подвыборки\n",
        "model.add(MaxPooling2D(pool_size=(2, 2)))\n",
        "# Сверточный слой\n",
        "model.add(Conv2D(64, (5, 5), activation='relu', padding='same'))\n",
        "# Слой подвыборки\n",
        "model.add(MaxPooling2D(pool_size=(2, 2)))\n",
        "# Сверточный слой\n",
        "model.add(Conv2D(128, (5, 5), activation='relu', padding='same'))\n",
        "# Слой подвыборки\n",
        "model.add(MaxPooling2D(pool_size=(2, 2)))\n",
        "# Полносвязная часть нейронной сети для классификации\n",
        "model.add(Flatten())\n",
        "model.add(Dense(1024, activation='relu'))\n",
        "model.add(Dropout(0.2))\n",
        "model.add(Dense(256, activation='relu'))\n",
        "model.add(Dropout(0.2))\n",
        "# Выходной слой, 131 нейрон по количеству классов\n",
        "model.add(Dense(131, activation='softmax'))"
      ],
      "metadata": {
        "id": "IT-t_DsGgDwJ"
      },
      "execution_count": null,
      "outputs": []
    },
    {
      "cell_type": "code",
      "source": [
        "model.compile(loss='sparse_categorical_crossentropy',\n",
        "              optimizer=\"adam\",\n",
        "              metrics=['accuracy'])"
      ],
      "metadata": {
        "id": "ZhJuBAJagGMe"
      },
      "execution_count": null,
      "outputs": []
    },
    {
      "cell_type": "code",
      "source": [
        "history = model.fit(train_dataset,\n",
        "                    validation_data=validation_dataset,\n",
        "                    epochs=5,\n",
        "                    verbose=2)"
      ],
      "metadata": {
        "colab": {
          "base_uri": "https://localhost:8080/"
        },
        "id": "_r6bo33CgISF",
        "outputId": "925d4642-af75-4a95-c195-a8449214b84b"
      },
      "execution_count": null,
      "outputs": [
        {
          "output_type": "stream",
          "name": "stdout",
          "text": [
            "Epoch 1/5\n",
            "13/13 - 156s - loss: 23.5317 - accuracy: 0.0432 - val_loss: 3.4024 - val_accuracy: 0.0333 - 156s/epoch - 12s/step\n",
            "Epoch 2/5\n",
            "13/13 - 141s - loss: 3.3200 - accuracy: 0.0506 - val_loss: 3.1034 - val_accuracy: 0.0500 - 141s/epoch - 11s/step\n",
            "Epoch 3/5\n",
            "13/13 - 149s - loss: 3.1675 - accuracy: 0.0537 - val_loss: 2.9888 - val_accuracy: 0.0389 - 149s/epoch - 11s/step\n",
            "Epoch 4/5\n",
            "13/13 - 147s - loss: 3.0968 - accuracy: 0.0580 - val_loss: 3.0149 - val_accuracy: 0.0444 - 147s/epoch - 11s/step\n",
            "Epoch 5/5\n",
            "13/13 - 155s - loss: 3.0111 - accuracy: 0.0771 - val_loss: 3.0596 - val_accuracy: 0.0611 - 155s/epoch - 12s/step\n"
          ]
        }
      ]
    },
    {
      "cell_type": "code",
      "source": [
        "scores = model.evaluate(test_dataset, verbose=1)"
      ],
      "metadata": {
        "colab": {
          "base_uri": "https://localhost:8080/"
        },
        "id": "dgYEcIcMn6us",
        "outputId": "3a19795f-1741-424d-cb04-606a2625f677"
      },
      "execution_count": null,
      "outputs": [
        {
          "output_type": "stream",
          "name": "stdout",
          "text": [
            "15/15 [==============================] - 61s 3s/step - loss: 2.9260 - accuracy: 0.1394\n"
          ]
        }
      ]
    },
    {
      "cell_type": "code",
      "source": [
        "print(\"Доля верных ответов на тестовых данных, в процентах:\", round(scores[1] * 100, 4))"
      ],
      "metadata": {
        "colab": {
          "base_uri": "https://localhost:8080/"
        },
        "id": "nlKtqughn8Cq",
        "outputId": "18872d95-b0e0-46d2-9041-ba17856d494d"
      },
      "execution_count": null,
      "outputs": [
        {
          "output_type": "stream",
          "name": "stdout",
          "text": [
            "Доля верных ответов на тестовых данных, в процентах: 13.9367\n"
          ]
        }
      ]
    },
    {
      "cell_type": "code",
      "source": [
        "plt.plot(history.history['accuracy'],\n",
        "         label='Доля верных ответов на обучающем наборе')\n",
        "plt.plot(history.history['val_accuracy'],\n",
        "         label='Доля верных ответов на проверочном наборе')\n",
        "plt.xlabel('Эпоха обучения')\n",
        "plt.ylabel('Доля верных ответов')\n",
        "plt.legend()\n",
        "plt.show()"
      ],
      "metadata": {
        "colab": {
          "base_uri": "https://localhost:8080/",
          "height": 279
        },
        "id": "TgK5piS0n-FR",
        "outputId": "2047ac41-fbbb-4eb2-8951-f53200444af8"
      },
      "execution_count": null,
      "outputs": [
        {
          "output_type": "display_data",
          "data": {
            "text/plain": [
              "<Figure size 432x288 with 1 Axes>"
            ],
            "image/png": "[encoded data removed]"
          },
          "metadata": {
            "needs_background": "light"
          }
        }
      ]
    }
  ]
}